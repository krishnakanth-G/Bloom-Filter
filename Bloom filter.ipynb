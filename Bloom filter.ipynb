{
 "cells": [
  {
   "cell_type": "markdown",
   "id": "30897691",
   "metadata": {},
   "source": [
    "<h1 align=\"center\">Assignment 2</h1>\n",
    "<h3 align = \"right\">Registration number: 20233</h3>"
   ]
  },
  {
   "cell_type": "markdown",
   "id": "c6fbb88a",
   "metadata": {},
   "source": [
    "**Question**\n",
    "\n",
    "The file named “Universal.txt” contains a list of around 600 words, one per line, in alphabetical order and in lower case to be used as an universal set of words. A list of 1000 words made up of random characters with each word size limited to length 10 is available in “Stream.txt”.\n",
    "\n",
    "Compute the number of words in Stream.txt that belong to the universal set using the bloom filter. Use a bit array of size 4K and 10 hash functions of the form:\n",
    "(a*(hashcode(word)) + b) mod 4096\n",
    "\n",
    "Also check the actual number using a set membership algorithm and provide the false positive percentage."
   ]
  },
  {
   "cell_type": "markdown",
   "id": "140e977e",
   "metadata": {},
   "source": [
    "## Defining Hashing class"
   ]
  },
  {
   "cell_type": "code",
   "execution_count": 1,
   "id": "58d43867",
   "metadata": {},
   "outputs": [],
   "source": [
    "import random\n",
    "import mmh3\n",
    "\n",
    "class HashFunction():\n",
    "  def __init__(self,M):\n",
    "    self.m = M\n",
    "    self.a = random.randint(1,10)\n",
    "    self.b = random.randint(1,10)\n",
    "\n",
    "  def convert(self,y):\n",
    "    return (self.a * mmh3.hash(y)+ self.b) % self.m\n"
   ]
  },
  {
   "cell_type": "markdown",
   "id": "c73c99b7",
   "metadata": {},
   "source": [
    "## Defining Bloom filter class"
   ]
  },
  {
   "cell_type": "code",
   "execution_count": 2,
   "id": "5659cc37",
   "metadata": {},
   "outputs": [],
   "source": [
    "class BloomFilter():\n",
    "  def __init__(self,M,K):\n",
    "    self.m = M\n",
    "    self.k = K\n",
    "    self.bitVector = [False] * M\n",
    "    self.hashFunctions = []\n",
    "    for i in range(0,self.k):\n",
    "      obj = HashFunction(M)\n",
    "      self.hashFunctions.append(obj)\n",
    "\n",
    "  def insert(self,obj):\n",
    "    for f in self.hashFunctions:\n",
    "      hash = f.convert(obj)\n",
    "      index = int(hash)\n",
    "      self.bitVector[index] =  True\n",
    "\n",
    "  def check(self,obj):\n",
    "    ret = True\n",
    "    for f in self.hashFunctions:\n",
    "      index = int(f.convert(obj))\n",
    "      ret = ret & self.bitVector[index]\n",
    "    return ret"
   ]
  },
  {
   "cell_type": "markdown",
   "id": "e533b0fd",
   "metadata": {},
   "source": [
    "## Importing Universal and Stream files"
   ]
  },
  {
   "cell_type": "code",
   "execution_count": 3,
   "id": "fba5aaf0",
   "metadata": {},
   "outputs": [],
   "source": [
    "u = open(\"Universal.txt\", \"r\")\n",
    "universal = []\n",
    "i=0\n",
    "for x in u:\n",
    "    universal.append(x.replace(\"\\n\",\"\"))\n",
    "    \n",
    "s = open(\"Stream.txt\", \"r\")\n",
    "stream = []\n",
    "for x in s:\n",
    "    stream.append(x.replace(\"\\n\",\"\"))"
   ]
  },
  {
   "cell_type": "markdown",
   "id": "a22e4222",
   "metadata": {},
   "source": [
    "## Bloom filter instance "
   ]
  },
  {
   "cell_type": "code",
   "execution_count": 4,
   "id": "94071efd",
   "metadata": {},
   "outputs": [],
   "source": [
    "bf = BloomFilter(4096,10)"
   ]
  },
  {
   "cell_type": "markdown",
   "id": "e4526bbd",
   "metadata": {},
   "source": [
    "## Insert universal data"
   ]
  },
  {
   "cell_type": "code",
   "execution_count": 5,
   "id": "f29eb70d",
   "metadata": {},
   "outputs": [],
   "source": [
    "for x in universal:\n",
    "    bf.insert(x)"
   ]
  },
  {
   "cell_type": "markdown",
   "id": "23e94442",
   "metadata": {},
   "source": [
    "## Filter stream data"
   ]
  },
  {
   "cell_type": "code",
   "execution_count": 6,
   "id": "8dce7f8e",
   "metadata": {},
   "outputs": [],
   "source": [
    "counter = 0\n",
    "for x in stream:\n",
    "    result = bf.check(x)\n",
    "    if(result is True):\n",
    "          counter = counter + 1"
   ]
  },
  {
   "cell_type": "markdown",
   "id": "20fdf999",
   "metadata": {},
   "source": [
    "## Fucntion to get similar words from two sets"
   ]
  },
  {
   "cell_type": "code",
   "execution_count": 7,
   "id": "284a53a7",
   "metadata": {},
   "outputs": [],
   "source": [
    "def similar_words(a, b):\n",
    "    a_set = set(a)\n",
    "    b_set = set(b)\n",
    "    if (a_set & b_set):\n",
    "        return(a_set & b_set)\n",
    "    return None"
   ]
  },
  {
   "cell_type": "markdown",
   "id": "19fd713f",
   "metadata": {},
   "source": [
    "## Finding actual filter count using set membership algorithm"
   ]
  },
  {
   "cell_type": "code",
   "execution_count": 8,
   "id": "cc70d2b9",
   "metadata": {},
   "outputs": [],
   "source": [
    "common_words = similar_words(universal,stream)\n",
    "count = 0\n",
    "for word in common_words:\n",
    "    count = count+stream.count(word)"
   ]
  },
  {
   "cell_type": "markdown",
   "id": "a4eddf8a",
   "metadata": {},
   "source": [
    "## Results"
   ]
  },
  {
   "cell_type": "code",
   "execution_count": 9,
   "id": "d116fff4",
   "metadata": {},
   "outputs": [
    {
     "name": "stdout",
     "output_type": "stream",
     "text": [
      "Total elements in the universal set              : 585\n",
      "Total elements in the stream set                 : 1003\n",
      "\n",
      "stream elemnets actually matching with universal : 20\n",
      "Number of elements filtered from stream set      : 165\n",
      "\n",
      "Number of false positives                        : 145\n",
      "False positives rate                             : 88 %\n"
     ]
    }
   ],
   "source": [
    "print(\"Total elements in the universal set              :\",len(universal))\n",
    "print(\"Total elements in the stream set                 :\",len(stream))\n",
    "print(\"\\nstream elemnets actually matching with universal :\",count)\n",
    "print(\"Number of elements filtered from stream set      :\",counter)\n",
    "print(\"\\nNumber of false positives                        :\",counter-count)\n",
    "\n",
    "if counter == 0:\n",
    "    print(\"False positives rate                             : 0%\")\n",
    "else:\n",
    "    falsePos = 1-(count/counter)\n",
    "    print(\"False positives rate                             :\",round(falsePos*100),\"%\")"
   ]
  },
  {
   "cell_type": "markdown",
   "id": "02069ccc",
   "metadata": {},
   "source": [
    "**The output may change if we run again because i am using randomn function while defining hashing class.**"
   ]
  }
 ],
 "metadata": {
  "kernelspec": {
   "display_name": "Python 3 (ipykernel)",
   "language": "python",
   "name": "python3"
  },
  "language_info": {
   "codemirror_mode": {
    "name": "ipython",
    "version": 3
   },
   "file_extension": ".py",
   "mimetype": "text/x-python",
   "name": "python",
   "nbconvert_exporter": "python",
   "pygments_lexer": "ipython3",
   "version": "3.8.3"
  }
 },
 "nbformat": 4,
 "nbformat_minor": 5
}
